{
 "cells": [
  {
   "cell_type": "code",
   "execution_count": 84,
   "metadata": {
    "collapsed": true
   },
   "outputs": [
    {
     "data": {
      "text/plain": "65.3"
     },
     "execution_count": 84,
     "metadata": {},
     "output_type": "execute_result"
    }
   ],
   "source": [
    "# Задача 1.\n",
    "# Даны значения зарплат из выборки выпускников: 100, 80, 75, 77, 89, 33, 45, 25, 65, 17, 30, 24, 57, 55, 70, 75, 65, 84, 90, 150.\n",
    "# Посчитать (желательно без использования статистических методов наподобие std, var, mean) среднее арифметическое,\n",
    "# среднее квадратичное отклонение, смещенную и несмещенную оценки дисперсий для данной выборки.\n",
    "\n",
    "import numpy\n",
    "\n",
    "\n",
    "salary = [100, 80, 75, 77, 89, 33, 45, 25, 65, 17, 30, 24, 57, 55, 70, 75, 65, 84, 90, 150]\n",
    "\n",
    "# среднее арифметическое:\n",
    "x_sr_arifm = sum(salary) / len(salary)\n",
    "x_sr_arifm"
   ]
  },
  {
   "cell_type": "code",
   "execution_count": 85,
   "outputs": [
    {
     "data": {
      "text/plain": "950.11"
     },
     "execution_count": 85,
     "metadata": {},
     "output_type": "execute_result"
    }
   ],
   "source": [
    "# смещенная оценка дисперсии:\n",
    "sqrt_diff = [(x - x_sr_arifm)**2 for x in salary]\n",
    "s_dispers_sm = sum(sqrt_diff) / len(salary)\n",
    "s_dispers_sm"
   ],
   "metadata": {
    "collapsed": false
   }
  },
  {
   "cell_type": "code",
   "execution_count": 86,
   "outputs": [
    {
     "data": {
      "text/plain": "1000.116"
     },
     "execution_count": 86,
     "metadata": {},
     "output_type": "execute_result"
    }
   ],
   "source": [
    "# несмещенная оценка дисперсии:\n",
    "s_dispers_nesm = round(sum(sqrt_diff) / (len(salary) - 1), 3)\n",
    "s_dispers_nesm"
   ],
   "metadata": {
    "collapsed": false
   }
  },
  {
   "cell_type": "code",
   "execution_count": 87,
   "outputs": [
    {
     "data": {
      "text/plain": "30.824"
     },
     "execution_count": 87,
     "metadata": {},
     "output_type": "execute_result"
    }
   ],
   "source": [
    "# среднее квадратичное отклонение по смещенной дисперсии:\n",
    "s_sr_kvadr_otklon = round(numpy.sqrt(s_dispers_sm),3)\n",
    "s_sr_kvadr_otklon"
   ],
   "metadata": {
    "collapsed": false
   }
  },
  {
   "cell_type": "code",
   "execution_count": 88,
   "outputs": [
    {
     "data": {
      "text/plain": "31.625"
     },
     "execution_count": 88,
     "metadata": {},
     "output_type": "execute_result"
    }
   ],
   "source": [
    "# среднее квадратичное отклонение по несмещенной дисперсии:\n",
    "s_sr_kvadr_otklon = round(numpy.sqrt(s_dispers_nesm),3)\n",
    "s_sr_kvadr_otklon"
   ],
   "metadata": {
    "collapsed": false
   }
  },
  {
   "cell_type": "code",
   "execution_count": 89,
   "outputs": [
    {
     "data": {
      "text/plain": "0.36869"
     },
     "execution_count": 89,
     "metadata": {},
     "output_type": "execute_result"
    }
   ],
   "source": [
    "# Задача 2.\n",
    "# В первом ящике находится 8 мячей, из которых 5 - белые. Во втором ящике - 12 мячей, из которых 5 белых. Из первого ящика\n",
    "# вытаскивают случайным образом два мяча, из второго - 4. Какова вероятность того, что 3 мяча белые?\n",
    "\n",
    "# Сочетание:\n",
    "def comb (n, k):\n",
    "    return numpy.math.factorial(n) / (numpy.math.factorial(k) * numpy.math.factorial(n - k))\n",
    "\n",
    "p = round((comb(5, 2) * comb(5, 1) * comb(7, 3) + comb(5, 1) * comb(3, 1) * comb(5, 2) * comb(7, 2) + comb(3, 2) * comb(5, 3) *\n",
    "          comb(7, 1)) / (comb(8, 2) * comb(12, 4)), 5)\n",
    "p"
   ],
   "metadata": {
    "collapsed": false
   }
  },
  {
   "cell_type": "code",
   "execution_count": 90,
   "outputs": [
    {
     "data": {
      "text/plain": "2.3"
     },
     "execution_count": 90,
     "metadata": {},
     "output_type": "execute_result"
    }
   ],
   "source": [
    "# Задача 3.\n",
    "# На соревновании по биатлону один из трех спортсменов стреляет и попадает в мишень. Вероятность попадания для первого спортсмена\n",
    "# равна 0.9, для второго — 0.8, для третьего — 0.6.\n",
    "\n",
    "# Используем формулу Байеса\n",
    "\n",
    "# вероятность попадания в мишень:\n",
    "sportsmen1 = 0.9 # - первого спортсмена\n",
    "sportsmen2 = 0.8 # - второго спортсмена\n",
    "sportsmen3 = 0.6 # - третьего спортсмена\n",
    "p_all = round(sportsmen1 + sportsmen2 + sportsmen3, 1)\n",
    "p_all"
   ],
   "metadata": {
    "collapsed": false
   }
  },
  {
   "cell_type": "code",
   "execution_count": 91,
   "outputs": [
    {
     "data": {
      "text/plain": "0.39"
     },
     "execution_count": 91,
     "metadata": {},
     "output_type": "execute_result"
    }
   ],
   "source": [
    "#Найти вероятность того, что выстрел произведен:\n",
    "# a). первым спортсменом:\n",
    "\n",
    "p_1 = round(sportsmen1 / p_all, 2)\n",
    "p_1"
   ],
   "metadata": {
    "collapsed": false
   }
  },
  {
   "cell_type": "code",
   "execution_count": 92,
   "outputs": [
    {
     "data": {
      "text/plain": "0.35"
     },
     "execution_count": 92,
     "metadata": {},
     "output_type": "execute_result"
    }
   ],
   "source": [
    "# б). вторым спортсменом:\n",
    "\n",
    "p_2 = round(sportsmen2 / p_all, 2)\n",
    "p_2"
   ],
   "metadata": {
    "collapsed": false
   }
  },
  {
   "cell_type": "code",
   "execution_count": 93,
   "outputs": [
    {
     "data": {
      "text/plain": "0.26"
     },
     "execution_count": 93,
     "metadata": {},
     "output_type": "execute_result"
    }
   ],
   "source": [
    "# в). третьим спортсменом:\n",
    "\n",
    "p_2 = round(sportsmen3 / p_all, 2)\n",
    "p_2"
   ],
   "metadata": {
    "collapsed": false
   }
  },
  {
   "cell_type": "code",
   "execution_count": 100,
   "outputs": [
    {
     "data": {
      "text/plain": "0.825"
     },
     "execution_count": 100,
     "metadata": {},
     "output_type": "execute_result"
    }
   ],
   "source": [
    "# Задача 4.\n",
    "# В университет на факультеты A и B поступило равное количество студентов, а на факультет C студентов поступило столько же,\n",
    "# сколько на A и B вместе. Вероятность того, что студент факультета A сдаст первую сессию, равна 0.8. Для студента факультета B\n",
    "# эта вероятность равна 0.7, а для студента факультета C - 0.9. Студент сдал первую сессию.\n",
    "\n",
    "# Используем формулу Байеса\n",
    "\n",
    "# вероятность сдачи сессии:\n",
    "faculty1 = 0.8 # - для студента факультета А\n",
    "faculty2 = 0.7 # - для студента факультета В\n",
    "faculty3 = 0.9 # - для студента факультета С\n",
    "\n",
    "p_faculty_all = 0.25 * faculty1 + 0.25 * faculty2 + 0.50 * faculty3\n",
    "p_faculty_all"
   ],
   "metadata": {
    "collapsed": false
   }
  },
  {
   "cell_type": "code",
   "execution_count": 101,
   "outputs": [
    {
     "data": {
      "text/plain": "0.24"
     },
     "execution_count": 101,
     "metadata": {},
     "output_type": "execute_result"
    }
   ],
   "source": [
    "# Какова вероятность, что он учится:\n",
    "# a). на факультете A\n",
    "\n",
    "p_A = round(faculty1 * 0.25 / p_faculty_all, 2)\n",
    "p_A"
   ],
   "metadata": {
    "collapsed": false
   }
  },
  {
   "cell_type": "code",
   "execution_count": 102,
   "outputs": [
    {
     "data": {
      "text/plain": "0.21"
     },
     "execution_count": 102,
     "metadata": {},
     "output_type": "execute_result"
    }
   ],
   "source": [
    "# Какова вероятность, что он учится:\n",
    "# б). на факультете B в). на факультете C?\n",
    "\n",
    "p_B = round(faculty2 * 0.25 / p_faculty_all, 2)\n",
    "p_B"
   ],
   "metadata": {
    "collapsed": false
   }
  },
  {
   "cell_type": "code",
   "execution_count": 103,
   "outputs": [
    {
     "data": {
      "text/plain": "0.55"
     },
     "execution_count": 103,
     "metadata": {},
     "output_type": "execute_result"
    }
   ],
   "source": [
    "# Какова вероятность, что он учится:\n",
    "# в). на факультете C?\n",
    "\n",
    "p_C = round(faculty3 * 0.50 / p_faculty_all, 2)\n",
    "p_C"
   ],
   "metadata": {
    "collapsed": false
   }
  },
  {
   "cell_type": "code",
   "execution_count": 120,
   "outputs": [],
   "source": [
    "# Задача 5.\n",
    "# Устройство состоит из трех деталей. Для первой детали вероятность выйти из строя в первый месяц равна 0.1, для второй - 0.2, для\n",
    "# третьей - 0.25. Какова вероятность того, что в первый месяц выйдут из строя: а). все детали\n",
    "\n",
    "\n",
    "p1 = 0.1\n",
    "p2 = 0.2\n",
    "p3 = 0.25"
   ],
   "metadata": {
    "collapsed": false
   }
  },
  {
   "cell_type": "code",
   "execution_count": 110,
   "outputs": [
    {
     "data": {
      "text/plain": "0.005"
     },
     "execution_count": 110,
     "metadata": {},
     "output_type": "execute_result"
    }
   ],
   "source": [
    "# Какова вероятность того, что в первый месяц выйдут из строя: а). все детали\n",
    "\n",
    "p_123 = round(p1 * p2 * p3, 3)\n",
    "p_123"
   ],
   "metadata": {
    "collapsed": false
   }
  },
  {
   "cell_type": "code",
   "execution_count": 117,
   "outputs": [
    {
     "data": {
      "text/plain": "0.08"
     },
     "execution_count": 117,
     "metadata": {},
     "output_type": "execute_result"
    }
   ],
   "source": [
    "# б). только две детали\n",
    "\n",
    "p_2 = round(p1 * p2 * (1 - p3) + p1 * (1 - p2) * p3 + (1 - p1) * p2 * p3, 3)\n",
    "p_2"
   ],
   "metadata": {
    "collapsed": false
   }
  },
  {
   "cell_type": "code",
   "execution_count": 121,
   "outputs": [
    {
     "data": {
      "text/plain": "0.54"
     },
     "execution_count": 121,
     "metadata": {},
     "output_type": "execute_result"
    }
   ],
   "source": [
    "# в). хотя бы одна деталь\n",
    "\n",
    "p_0 = round((1 - p1) * (1 - p2) * (1- p3), 3)\n",
    "p_0 # вероятность, что ни одна деталь не бракована"
   ],
   "metadata": {
    "collapsed": false
   }
  },
  {
   "cell_type": "code",
   "execution_count": 123,
   "outputs": [
    {
     "data": {
      "text/plain": "0.46"
     },
     "execution_count": 123,
     "metadata": {},
     "output_type": "execute_result"
    }
   ],
   "source": [
    "p_1 = round(1 - p_0, 3)\n",
    "p_1 # вероятность, что бракована хотя бы одна деталь"
   ],
   "metadata": {
    "collapsed": false
   }
  },
  {
   "cell_type": "code",
   "execution_count": 124,
   "outputs": [
    {
     "data": {
      "text/plain": "0.455"
     },
     "execution_count": 124,
     "metadata": {},
     "output_type": "execute_result"
    }
   ],
   "source": [
    "# г). от одной до двух деталей?\n",
    "\n",
    "p_12 = p_1 - p_123\n",
    "p_12"
   ],
   "metadata": {
    "collapsed": false
   }
  },
  {
   "cell_type": "code",
   "execution_count": null,
   "outputs": [],
   "source": [],
   "metadata": {
    "collapsed": false
   }
  }
 ],
 "metadata": {
  "kernelspec": {
   "display_name": "Python 3",
   "language": "python",
   "name": "python3"
  },
  "language_info": {
   "codemirror_mode": {
    "name": "ipython",
    "version": 2
   },
   "file_extension": ".py",
   "mimetype": "text/x-python",
   "name": "python",
   "nbconvert_exporter": "python",
   "pygments_lexer": "ipython2",
   "version": "2.7.6"
  }
 },
 "nbformat": 4,
 "nbformat_minor": 0
}
