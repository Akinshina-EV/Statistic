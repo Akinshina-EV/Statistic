{
 "cells": [
  {
   "cell_type": "code",
   "execution_count": 48,
   "metadata": {
    "collapsed": true
   },
   "outputs": [
    {
     "data": {
      "text/plain": "MannwhitneyuResult(statistic=8.0, pvalue=0.6285714285714286)"
     },
     "execution_count": 48,
     "metadata": {},
     "output_type": "execute_result"
    }
   ],
   "source": [
    "# Задача 1.\n",
    "# Выберете тест и проверьте, есть ли различия между выборками:\n",
    "# 1 ) Даны две независимые выборки. Не соблюдается условие нормальности\n",
    "# x1 380,420, 290\n",
    "# y1 140,360,200,900\n",
    "# Сделайте вывод по результатам, полученным с помощью функции\n",
    "\n",
    "import numpy\n",
    "import scipy.stats as stats\n",
    "\n",
    "x1 = numpy.array([380,420, 290])\n",
    "y1 = numpy.array([140,360,200,900])\n",
    "\n",
    "'H0: mu1 = mu2'\n",
    "'H1: mu1 != mu2'\n",
    "\n",
    "# В случае, когда выборки всего две и они независимые для теста используем критерий Манна-Уитни.\n",
    "stats.mannwhitneyu(x1, y1)"
   ]
  },
  {
   "cell_type": "code",
   "execution_count": 49,
   "outputs": [
    {
     "data": {
      "text/plain": "'Так как pvalue=0.63, выбираем гипотезу Н0, т.к. даже при α=0.1 p-value > α.'"
     },
     "execution_count": 49,
     "metadata": {},
     "output_type": "execute_result"
    }
   ],
   "source": [
    "'Так как pvalue=0.63, выбираем гипотезу Н0, т.к. даже при α=0.1 p-value > α.'"
   ],
   "metadata": {
    "collapsed": false
   }
  },
  {
   "cell_type": "code",
   "execution_count": 50,
   "outputs": [
    {
     "data": {
      "text/plain": "FriedmanchisquareResult(statistic=9.578947368421062, pvalue=0.00831683351100441)"
     },
     "execution_count": 50,
     "metadata": {},
     "output_type": "execute_result"
    }
   ],
   "source": [
    "# Задача 2.\n",
    "# Выберете тест и проверьте, есть ли различия между выборками:\n",
    "# 2) Исследовалось влияние препарата на уровень давления пациентов. Сначала измерялось давление до приема препарата, потом через 10\n",
    "# минут и через 30 минут. Есть ли статистически значимые различия?\n",
    "# 1е измерение до приема препарата: 150, 160, 165, 145, 155\n",
    "# 2е измерение через 10 минут: 140, 155, 150, 130, 135\n",
    "# 3е измерение через 30 минут: 130, 130, 120, 130, 125\n",
    "\n",
    "befor = numpy.array([150, 160, 165, 145, 155])\n",
    "after_10_minits = numpy.array([140, 155, 150, 130, 135])\n",
    "after_30_minits = numpy.array([130, 130, 120, 130, 125])\n",
    "\n",
    "# В случае множественных зависимых выборок с повторными измерениями для теста используем критерий Фридмана.\n",
    "stats.friedmanchisquare(befor, after_10_minits, after_30_minits)"
   ],
   "metadata": {
    "collapsed": false
   }
  },
  {
   "cell_type": "code",
   "execution_count": 51,
   "outputs": [
    {
     "data": {
      "text/plain": "'Вывод: выявлены статистически значимые различия на уровне значимости α = 0.05, так как p-value < α'"
     },
     "execution_count": 51,
     "metadata": {},
     "output_type": "execute_result"
    }
   ],
   "source": [
    "'Вывод: выявлены статистически значимые различия на уровне значимости α = 0.05, так как p-value < α'"
   ],
   "metadata": {
    "collapsed": false
   }
  },
  {
   "cell_type": "code",
   "execution_count": 52,
   "outputs": [
    {
     "data": {
      "text/plain": "WilcoxonResult(statistic=0.0, pvalue=0.0625)"
     },
     "execution_count": 52,
     "metadata": {},
     "output_type": "execute_result"
    }
   ],
   "source": [
    "# Задача 3.\n",
    "# Выберете тест и проверьте, есть ли различия между выборками:\n",
    "# 3) Исследовалось влияние препарата на уровень давления пациентов. Сначала измерялось давление до приема препарата, потом через 10\n",
    "# минут и через 30 минут. Есть ли статистически значимые различия?\n",
    "# 1е измерение до приема препарата: 150, 160, 165, 145, 155\n",
    "# 2е измерение через 10 минут: 140, 155, 150, 130, 135\n",
    "# 3е измерение через 30 минут: 130, 130, 120, 130, 125\n",
    "# Сравните 1 и 2 е измерения, предполагая, что 3го измерения через 30 минут не было.\n",
    "\n",
    "# В случае, когда выборки всего две и они зависимые для теста используем критерий Уилкоксона.\n",
    "stats.wilcoxon(befor, after_10_minits)"
   ],
   "metadata": {
    "collapsed": false
   }
  },
  {
   "cell_type": "code",
   "execution_count": 53,
   "outputs": [
    {
     "data": {
      "text/plain": "'Вывод: препарат не влияет на уровень давления пациентов, так как не выявлены статистически значимые различия на уровне значимости α = 0.05, так как p-value > α'"
     },
     "execution_count": 53,
     "metadata": {},
     "output_type": "execute_result"
    }
   ],
   "source": [
    "'Вывод: препарат не влияет на уровень давления пациентов, так как не выявлены статистически значимые различия на уровне значимости' \\\n",
    "' α = 0.05, так как p-value > α'"
   ],
   "metadata": {
    "collapsed": false
   }
  },
  {
   "cell_type": "code",
   "execution_count": 54,
   "outputs": [
    {
     "data": {
      "text/plain": "KruskalResult(statistic=5.465564058257224, pvalue=0.0650380998590494)"
     },
     "execution_count": 54,
     "metadata": {},
     "output_type": "execute_result"
    }
   ],
   "source": [
    "# Задача 4.\n",
    "# Выберете тест и проверьте, есть ли различия между выборками:\n",
    "# 4) Даны 3 группы учеников плавания.\n",
    "# В 1 группе время на дистанцию 50 м составляют:\n",
    "# 56, 60, 62, 55, 71, 67, 59, 58, 64, 67\n",
    "# Вторая группа : 57, 58, 69, 48, 72, 70, 68, 71, 50, 53\n",
    "# Третья группа: 57, 67, 49, 48, 47, 55, 66, 51, 54\n",
    "\n",
    "gr1 = numpy.array([56, 60, 62, 55, 71, 67, 59, 58, 64, 67])\n",
    "gr2 = numpy.array([57, 58, 69, 48, 72, 70, 68, 71, 50, 53])\n",
    "gr3 = numpy.array([57, 67, 49, 48, 47, 55, 66, 51, 54])\n",
    "\n",
    "# В случае множественных независимых выборок для теста используем критерий Крускала - Уоллиса.\n",
    "stats.kruskal(gr1, gr2, gr3)"
   ],
   "metadata": {
    "collapsed": false
   }
  },
  {
   "cell_type": "code",
   "execution_count": 55,
   "outputs": [
    {
     "data": {
      "text/plain": "'Вывод:  статистически значимые различия не выявлены на уровне значимости α = 0.05, так как p-value > α'"
     },
     "execution_count": 55,
     "metadata": {},
     "output_type": "execute_result"
    }
   ],
   "source": [
    "'Вывод:  статистически значимые различия не выявлены на уровне значимости α = 0.05, так как p-value > α'"
   ],
   "metadata": {
    "collapsed": false
   }
  },
  {
   "cell_type": "code",
   "execution_count": 56,
   "outputs": [
    {
     "data": {
      "text/plain": "2.528"
     },
     "execution_count": 56,
     "metadata": {},
     "output_type": "execute_result"
    }
   ],
   "source": [
    "# Задача 5.\n",
    "# Заявляется, что партия изготавливается со средним арифметическим 2,5 см. Проверить данную гипотезу, если известно, что размеры\n",
    "# изделий подчинены нормальному закону распределения. Объем выборки 10, уровень статистической значимости 5%\n",
    "# 2.51, 2.35, 2.74, 2.56, 2.40, 2.36, 2.65, 2.7, 2.67, 2.34\n",
    "\n",
    "sizes = numpy.array([2.51, 2.35, 2.74, 2.56, 2.40, 2.36, 2.65, 2.7, 2.67, 2.34])\n",
    "n = 10\n",
    "alfa = 0.975\n",
    "mu = 2.5\n",
    "\n",
    "x = round(numpy.mean(sizes), 4)\n",
    "x"
   ],
   "metadata": {
    "collapsed": false
   }
  },
  {
   "cell_type": "code",
   "execution_count": 57,
   "outputs": [
    {
     "data": {
      "text/plain": "0.1573"
     },
     "execution_count": 57,
     "metadata": {},
     "output_type": "execute_result"
    }
   ],
   "source": [
    "'H0: x = mu'\n",
    "'H1: x > mu'\n",
    "\n",
    "sigma_nesm = round(numpy.std(sizes, ddof=1), 4)\n",
    "sigma_nesm"
   ],
   "metadata": {
    "collapsed": false
   }
  },
  {
   "cell_type": "code",
   "execution_count": 58,
   "outputs": [
    {
     "data": {
      "text/plain": "2.2622"
     },
     "execution_count": 58,
     "metadata": {},
     "output_type": "execute_result"
    }
   ],
   "source": [
    "t_Student = round(stats.t.ppf(alfa, n-1), 4)\n",
    "t_Student"
   ],
   "metadata": {
    "collapsed": false
   }
  },
  {
   "cell_type": "code",
   "execution_count": 59,
   "outputs": [
    {
     "data": {
      "text/plain": "0.0563"
     },
     "execution_count": 59,
     "metadata": {},
     "output_type": "execute_result"
    }
   ],
   "source": [
    "t_fact = round((x - mu) / sigma_nesm / n**0.5, 4)\n",
    "t_fact"
   ],
   "metadata": {
    "collapsed": false
   }
  },
  {
   "cell_type": "code",
   "execution_count": 60,
   "outputs": [
    {
     "data": {
      "text/plain": "'Вывод: размеры изделий в партии изготавливаются со средним арифметическим 2,5 см,  нулевая гипотеза верна при α=0,05 (так как t_fact < t_Student'"
     },
     "execution_count": 60,
     "metadata": {},
     "output_type": "execute_result"
    }
   ],
   "source": [
    "'Вывод: размеры изделий в партии изготавливаются со средним арифметическим 2,5 см,  нулевая гипотеза верна при α=0,05 (так как ' \\\n",
    "'t_fact < t_Student'"
   ],
   "metadata": {
    "collapsed": false
   }
  },
  {
   "cell_type": "code",
   "execution_count": 60,
   "outputs": [],
   "source": [],
   "metadata": {
    "collapsed": false
   }
  }
 ],
 "metadata": {
  "kernelspec": {
   "display_name": "Python 3",
   "language": "python",
   "name": "python3"
  },
  "language_info": {
   "codemirror_mode": {
    "name": "ipython",
    "version": 2
   },
   "file_extension": ".py",
   "mimetype": "text/x-python",
   "name": "python",
   "nbconvert_exporter": "python",
   "pygments_lexer": "ipython2",
   "version": "2.7.6"
  }
 },
 "nbformat": 4,
 "nbformat_minor": 0
}
