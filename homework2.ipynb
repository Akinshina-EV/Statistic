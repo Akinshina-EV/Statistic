{
 "cells": [
  {
   "cell_type": "code",
   "execution_count": 49,
   "metadata": {
    "collapsed": true
   },
   "outputs": [],
   "source": [
    "import numpy as np\n",
    "import math\n",
    "\n",
    "\n",
    "# Сочетание:\n",
    "def combinations (n, k):\n",
    "    return np.math.factorial(n) / (np.math.factorial(k) * np.math.factorial(n - k))\n",
    "\n",
    "# Формула Бернулли:\n",
    "def bernulli(n, k, p):\n",
    "    return combinations(n, k) * p**k * (1 - p)**(n - k)\n",
    "\n",
    "# Распределение Пуассона:\n",
    "def puasson(p_lambda, m):\n",
    "    return (p_lambda**m / np.math.factorial(m)) * math.exp(-p_lambda)\n"
   ]
  },
  {
   "cell_type": "code",
   "execution_count": 50,
   "outputs": [
    {
     "data": {
      "text/plain": "0.048"
     },
     "execution_count": 50,
     "metadata": {},
     "output_type": "execute_result"
    }
   ],
   "source": [
    "# Задача 1.\n",
    "# Вероятность того, что стрелок попадет в мишень, выстрелив один раз, равна 0.8. Стрелок выстрелил 100 раз. Найдите вероятность\n",
    "# того, что стрелок попадет в цель ровно 85 раз.\n",
    "\n",
    "p = round(bernulli(100, 85, 0.8), 3)\n",
    "p\n"
   ],
   "metadata": {
    "collapsed": false
   }
  },
  {
   "cell_type": "code",
   "execution_count": 51,
   "outputs": [
    {
     "data": {
      "text/plain": "0.135"
     },
     "execution_count": 51,
     "metadata": {},
     "output_type": "execute_result"
    }
   ],
   "source": [
    "# Задача 2.\n",
    "# Вероятность того, что лампочка перегорит в течение первого дня эксплуатации, равна 0.0004. В жилом комплексе после ремонта в\n",
    "# один день включили 5000 новых лампочек.\n",
    "# Какова вероятность, что ни одна из них не перегорит в первый день?\n",
    "\n",
    "p_lambda = 5000 * 0.0004\n",
    "p = round(puasson(p_lambda, 0), 3)\n",
    "p\n"
   ],
   "metadata": {
    "collapsed": false
   }
  },
  {
   "cell_type": "code",
   "execution_count": 52,
   "outputs": [
    {
     "data": {
      "text/plain": "0.271"
     },
     "execution_count": 52,
     "metadata": {},
     "output_type": "execute_result"
    }
   ],
   "source": [
    "# Какова вероятность, что перегорят ровно две?\n",
    "\n",
    "p = round(puasson(p_lambda, 2), 3)\n",
    "p\n"
   ],
   "metadata": {
    "collapsed": false
   }
  },
  {
   "cell_type": "code",
   "execution_count": 53,
   "outputs": [
    {
     "data": {
      "text/plain": "0.0628"
     },
     "execution_count": 53,
     "metadata": {},
     "output_type": "execute_result"
    }
   ],
   "source": [
    "# Задача 3.\n",
    "# Монету подбросили 144 раза. Какова вероятность, что орел выпадет ровно 70 раз?\n",
    "\n",
    "p = round(bernulli(144, 70, 0.5), 4)\n",
    "p\n"
   ],
   "metadata": {
    "collapsed": false
   }
  },
  {
   "cell_type": "code",
   "execution_count": 54,
   "outputs": [
    {
     "data": {
      "text/plain": "0.30545"
     },
     "execution_count": 54,
     "metadata": {},
     "output_type": "execute_result"
    }
   ],
   "source": [
    "# Задача 4.\n",
    "# В первом ящике находится 10 мячей, из которых 7 - белые. Во втором ящике - 11 мячей, из которых 9 белых. Из каждого ящика\n",
    "# вытаскивают случайным образом по два мяча.\n",
    "# Какова вероятность того, что все мячи белые?\n",
    "\n",
    "p = round(7 / 10 * 6 / 9 * 9 / 11 * 8 / 10, 5)\n",
    "p\n"
   ],
   "metadata": {
    "collapsed": false
   }
  },
  {
   "cell_type": "code",
   "execution_count": 55,
   "outputs": [
    {
     "data": {
      "text/plain": "0.20485"
     },
     "execution_count": 55,
     "metadata": {},
     "output_type": "execute_result"
    }
   ],
   "source": [
    "# Какова вероятность того, что ровно два мяча белые?\n",
    "\n",
    "p = round(7 / 10 * 6 / 9 * 2 / 11 * 1 / 10 + 7 / 10 * 3 / 9 * 9 / 11 * 2 / 10 + 7 / 10 * 3 / 9 * 2 / 11 * 9 / 10 + 3 / 10 *\n",
    "          7 / 9 * 9 / 11 * 2 / 10 + 3 / 10 * 7 / 9 * 2 / 11 * 9 / 10 + 3 / 10 * 2 / 9 * 9 / 11 * 8 / 10, 5)\n",
    "p\n"
   ],
   "metadata": {
    "collapsed": false
   }
  },
  {
   "cell_type": "code",
   "execution_count": 56,
   "outputs": [
    {
     "data": {
      "text/plain": "0.99879"
     },
     "execution_count": 56,
     "metadata": {},
     "output_type": "execute_result"
    }
   ],
   "source": [
    "# Какова вероятность того, что хотя бы один мяч белый?\n",
    "\n",
    "p = round(1 - 3 / 10 * 2 / 9 * 2 / 11 * 1 / 10, 5)\n",
    "p\n"
   ],
   "metadata": {
    "collapsed": false
   }
  },
  {
   "cell_type": "code",
   "execution_count": 56,
   "outputs": [],
   "source": [],
   "metadata": {
    "collapsed": false
   }
  }
 ],
 "metadata": {
  "kernelspec": {
   "display_name": "Python 3",
   "language": "python",
   "name": "python3"
  },
  "language_info": {
   "codemirror_mode": {
    "name": "ipython",
    "version": 2
   },
   "file_extension": ".py",
   "mimetype": "text/x-python",
   "name": "python",
   "nbconvert_exporter": "python",
   "pygments_lexer": "ipython2",
   "version": "2.7.6"
  }
 },
 "nbformat": 4,
 "nbformat_minor": 0
}
