{
 "cells": [
  {
   "cell_type": "code",
   "execution_count": 36,
   "metadata": {
    "collapsed": true
   },
   "outputs": [],
   "source": [
    "import numpy as np\n",
    "\n",
    "# Сочетание:\n",
    "def combinations (n, k):\n",
    "    return np.math.factorial(n) / (np.math.factorial(k) * np.math.factorial(n - k))\n"
   ]
  },
  {
   "cell_type": "code",
   "execution_count": 37,
   "outputs": [
    {
     "data": {
      "text/plain": "0.00264"
     },
     "execution_count": 37,
     "metadata": {},
     "output_type": "execute_result"
    }
   ],
   "source": [
    "# Задача 1.\n",
    "# Из колоды в 52 карты извлекаются случайным образом 4 карты.\n",
    "# a) Найти вероятность того, что все карты – крести.\n",
    "\n",
    "p = round(combinations(13, 4) / combinations(52, 4), 5)\n",
    "p\n"
   ],
   "metadata": {
    "collapsed": false
   }
  },
  {
   "cell_type": "code",
   "execution_count": 38,
   "outputs": [
    {
     "data": {
      "text/plain": "0.2813"
     },
     "execution_count": 38,
     "metadata": {},
     "output_type": "execute_result"
    }
   ],
   "source": [
    "# б) Найти вероятность, что среди 4-х карт окажется хотя бы один туз.\n",
    "\n",
    "p = 1 - round(combinations(48, 4) / combinations(52, 4), 4)\n",
    "p\n"
   ],
   "metadata": {
    "collapsed": false
   }
  },
  {
   "cell_type": "code",
   "execution_count": 39,
   "outputs": [
    {
     "data": {
      "text/plain": "0.00833"
     },
     "execution_count": 39,
     "metadata": {},
     "output_type": "execute_result"
    }
   ],
   "source": [
    "# Задача 2.\n",
    "# На входной двери подъезда установлен кодовый замок, содержащий десять кнопок с цифрами от 0 до 9.\n",
    "# Код содержит три цифры, которые нужно нажать одновременно. Какова вероятность того, что человек,\n",
    "# не знающий код, откроет дверь с первой попытки?\n",
    "\n",
    "p = round(1 / combinations(10, 3), 5)\n",
    "p\n"
   ],
   "metadata": {
    "collapsed": false
   }
  },
  {
   "cell_type": "code",
   "execution_count": 40,
   "outputs": [
    {
     "data": {
      "text/plain": "0.18462"
     },
     "execution_count": 40,
     "metadata": {},
     "output_type": "execute_result"
    }
   ],
   "source": [
    "# Задача 3.\n",
    "# В ящике имеется 15 деталей, из которых 9 окрашены. Рабочий случайным образом извлекает 3 детали.\n",
    "# Какова вероятность того, что все извлеченные детали окрашены?\n",
    "\n",
    "p = round(combinations(9, 3) / combinations(15, 3), 5)\n",
    "p\n"
   ],
   "metadata": {
    "collapsed": false
   }
  },
  {
   "cell_type": "code",
   "execution_count": 41,
   "outputs": [
    {
     "data": {
      "text/plain": "0.0002"
     },
     "execution_count": 41,
     "metadata": {},
     "output_type": "execute_result"
    }
   ],
   "source": [
    "# Задача 4.\n",
    "# В лотерее 100 билетов. Из них 2 выигрышных. Какова вероятность того, что 2 приобретенных билета\n",
    "# окажутся выигрышными?\n",
    "\n",
    "p = round(1 / combinations(100, 2), 5)\n",
    "p\n"
   ],
   "metadata": {
    "collapsed": false
   }
  },
  {
   "cell_type": "code",
   "execution_count": 41,
   "outputs": [],
   "source": [],
   "metadata": {
    "collapsed": false
   }
  }
 ],
 "metadata": {
  "kernelspec": {
   "display_name": "Python 3",
   "language": "python",
   "name": "python3"
  },
  "language_info": {
   "codemirror_mode": {
    "name": "ipython",
    "version": 2
   },
   "file_extension": ".py",
   "mimetype": "text/x-python",
   "name": "python",
   "nbconvert_exporter": "python",
   "pygments_lexer": "ipython2",
   "version": "2.7.6"
  }
 },
 "nbformat": 4,
 "nbformat_minor": 0
}
